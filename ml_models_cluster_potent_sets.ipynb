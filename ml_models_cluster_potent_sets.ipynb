{
 "cells": [
  {
   "cell_type": "code",
   "execution_count": 5,
   "metadata": {
    "tags": [],
    "pycharm": {
     "name": "#%%\n"
    }
   },
   "outputs": [
    {
     "name": "stdout",
     "output_type": "stream",
     "text": [
      "The autoreload extension is already loaded. To reload it, use:\n",
      "  %reload_ext autoreload\n"
     ]
    }
   ],
   "source": [
    "#Utils\n",
    "from ml_utils import *\n",
    "from machine_learning_models import *\n",
    "from fingerprints import *\n",
    "from IPython.core.display_functions import display\n",
    "from tqdm.notebook import tqdm\n",
    "#Sklearn\n",
    "\n",
    "os.environ['TF_CPP_MIN_LOG_LEVEL'] = '3'\n",
    "tf.compat.v1.logging.set_verbosity(tf.compat.v1.logging.ERROR)\n",
    "%load_ext autoreload\n",
    "%autoreload 2"
   ]
  },
  {
   "cell_type": "markdown",
   "source": [
    "# Models Parameters\n",
    "### Select the desired parameters to be used by regression models\n",
    "<p>\n",
    "<li> <b>model_list</b>: ML/DL models for regression (kNN: k-neirest neighbor, SVR: Support Vector Regression, RFR: Random Forest Regression, DNN: Deep Neural Network, MR: Median regression)</li>\n",
    "</p>\n",
    "<p>\n",
    "<li> <b>cv_fold</b>: Number do data splits (trials) to be performed</li>\n",
    "</p>\n",
    "<p>\n",
    "<li> <b>opt_metric</b>: Optimization metric to be use for model optimization (MAE: 'neg_mean_absolute_error', MSE: ‘neg_mean_squared_error’)</li>\n",
    "</p>\n",
    "<p>\n",
    "<li> <b>compound_sets</b>: Compound sets to be generated ('Cluster set': Largest Analogue series, ' Potent set': Most potent compounds) </li>\n",
    "</p>\n",
    "<p>\n",
    "<li> <b>potent_size</b>: Potent sets size to be generated (0.1 = 10% original set) </li>\n",
    "</p>\n",
    "\n"
   ],
   "metadata": {
    "collapsed": false,
    "pycharm": {
     "name": "#%% md\n"
    }
   }
  },
  {
   "cell_type": "code",
   "execution_count": 6,
   "metadata": {
    "collapsed": false,
    "jupyter": {
     "outputs_hidden": false
    },
    "pycharm": {
     "name": "#%%\n"
    }
   },
   "outputs": [
    {
     "data": {
      "text/plain": "'./regression_results/'"
     },
     "execution_count": 6,
     "metadata": {},
     "output_type": "execute_result"
    }
   ],
   "source": [
    "model_list = ['kNN', 'SVR', 'RFR', 'DNN', 'MR']\n",
    "cv_folds=10\n",
    "opt_metric = \"neg_mean_absolute_error\"\n",
    "compound_sets = ['Cluster set', 'Potent set']\n",
    "potent_size = 0.1"
   ]
  },
  {
   "cell_type": "markdown",
   "source": [
    "\n",
    "# Loading Data"
   ],
   "metadata": {
    "collapsed": false,
    "pycharm": {
     "name": "#%% md\n"
    }
   }
  },
  {
   "cell_type": "code",
   "execution_count": 7,
   "outputs": [],
   "source": [
    "# Load CCR results path\n",
    "ccr_path = \"./ccr_results/\"\n",
    "# Load actives dB\n",
    "db_path = './dataset/'\n",
    "# Load actives dB\n",
    "regression_db = pd.read_csv(os.path.join(db_path, f'chembl_30_IC50_10_tids_1000_CPDs.csv'))\n",
    "# Target Classes\n",
    "regression_tids = regression_db.chembl_tid.unique()[:10]"
   ],
   "metadata": {
    "collapsed": false,
    "pycharm": {
     "name": "#%%\n"
    }
   }
  },
  {
   "cell_type": "markdown",
   "source": [
    "# Models"
   ],
   "metadata": {
    "collapsed": false,
    "pycharm": {
     "name": "#%% md\n"
    }
   }
  },
  {
   "cell_type": "code",
   "execution_count": null,
   "outputs": [],
   "source": [
    "\n",
    "performance_train_df = pd.DataFrame()\n",
    "predictions_train_df = pd.DataFrame()\n",
    "performance_test_df = pd.DataFrame()\n",
    "predictions_test_df = pd.DataFrame()\n",
    "parameter_resume = []\n",
    "\n",
    "\n",
    "# Molecular Fingerprints\n",
    "morgan_radius2 = FoldedMorganFingerprint(radius=2)\n",
    "morgan_radius2.fit_smiles(regression_db.nonstereo_aromatic_smiles.tolist())\n",
    "\n",
    "for target in tqdm(regression_tids):\n",
    "    for approach in ['Potent set', 'Cluster set']:\n",
    "        for trial in range(1):\n",
    "            print(f'Training on {target}')\n",
    "\n",
    "            # Select Target Database\n",
    "            regression_db_tid = regression_db.loc[regression_db.chembl_tid == target]\n",
    "\n",
    "            if approach == 'Cluster set':\n",
    "                ccr_df = pd.read_csv(os.path.join(ccr_path, f'CCR_C30_IC50_HT_single_5_0.666_13_{target}.csv'))\n",
    "\n",
    "                ccr_df_AS = ccr_df.loc[ccr_df['Core'] == ccr_df['Core'].value_counts().index[trial]].chembl_id.values\n",
    "\n",
    "                df_TR = regression_db_tid.loc[~regression_db_tid['chembl_cid'].isin(ccr_df_AS)]\n",
    "\n",
    "                df_TE = regression_db_tid.loc[regression_db_tid['chembl_cid'].isin(ccr_df_AS)]\n",
    "\n",
    "            elif approach == 'Potent set':\n",
    "\n",
    "                df_TE = regression_db_tid.nlargest(int(round(len(regression_db_tid.index)*potent_size, 0)), 'pPot')\n",
    "\n",
    "                df_TR = regression_db_tid.loc[~regression_db_tid['chembl_cid'].isin(df_TE['chembl_cid'])]\n",
    "\n",
    "            # Constructing ChEMBL Dataset\n",
    "            fp_matrix_tr = morgan_radius2.transform_smiles(df_TR.nonstereo_aromatic_smiles.tolist())\n",
    "            fp_matrix_te = morgan_radius2.transform_smiles(df_TE.nonstereo_aromatic_smiles.tolist())\n",
    "\n",
    "            #Potency values\n",
    "            potency_tr = df_TR.pPot.values\n",
    "            potency_te = df_TE.pPot.values\n",
    "\n",
    "            # Constructing Dataset\n",
    "            training_set = Dataset(fp_matrix_tr, np.array(potency_tr))\n",
    "            training_set.add_instance(\"target\", df_TR.chembl_tid.values)\n",
    "            training_set.add_instance(\"smiles\", df_TR.nonstereo_aromatic_smiles.values)\n",
    "\n",
    "            test_set = Dataset(fp_matrix_te, np.array(potency_te))\n",
    "            test_set.add_instance(\"target\", df_TE.chembl_tid.values)\n",
    "            test_set.add_instance(\"smiles\", df_TE.nonstereo_aromatic_smiles.values)\n",
    "\n",
    "            for model in model_list:\n",
    "                print(f'Training {model}')\n",
    "\n",
    "                model_fpath = create_directory(f\"./trained_models/{model}/\" + f\"{target}_{trial}\", verbose=False)\n",
    "\n",
    "                if model == 'DNN':\n",
    "                    ml_model = DNN(training_set, model, training_set.features.shape[1], seed=trial)\n",
    "                    model_fpath += \".h5\"\n",
    "                    ml_model.model.save(model_fpath)\n",
    "                else:\n",
    "                    ml_model = MLModel(training_set, model)\n",
    "                    model_fpath += \".p.gz\"\n",
    "\n",
    "                #Best model parameters\n",
    "                opt_parameters_dict = {'model': model,\n",
    "                                       'trial': trial,\n",
    "                                       'Target ID': target}\n",
    "                for param, value in ml_model.best_params.items():\n",
    "                    opt_parameters_dict[param] = value\n",
    "                parameter_resume.append(opt_parameters_dict)\n",
    "\n",
    "                # TRAIN\n",
    "                #Model Evaluation\n",
    "                model_eval_train = Model_Evaluation(ml_model, training_set)\n",
    "\n",
    "                #Performance df\n",
    "                performance_train = model_eval_train.pred_performance\n",
    "                performance_train[\"trial\"] = trial\n",
    "                performance_train[\"Approach\"] = approach\n",
    "                performance_train[\"Approach_trial\"] = trial\n",
    "                performance_train_df = pd.concat([performance_train_df, performance_train])\n",
    "\n",
    "                # TEST\n",
    "                #Model Evaluation\n",
    "                model_eval_test = Model_Evaluation(ml_model, test_set)\n",
    "\n",
    "                #Performance df\n",
    "                performance_test = model_eval_test.pred_performance\n",
    "                performance_test[\"Approach\"] = approach\n",
    "                performance_test[\"trial\"] = trial\n",
    "                performance_test_df = pd.concat([performance_test_df, performance_test])\n",
    "\n",
    "                # Prediction df\n",
    "                predictions_test = model_eval_test.predictions\n",
    "                predictions_test[\"Approach\"] = approach\n",
    "                predictions_test[\"trial\"] = trial\n",
    "                predictions_test_df = pd.concat([predictions_test_df, predictions_test])\n",
    "\n",
    "\n",
    "parameter_df = pd.DataFrame(parameter_resume)\n",
    "display(parameter_df)\n",
    "display(performance_test_df)\n",
    "\n",
    "# Save results\n",
    "result_path = create_directory('./regression_results/cluster_potent/')\n",
    "performance_train_df.to_csv(os.path.join(result_path, f'performance_train_cluster_potent.csv'))\n",
    "performance_test_df.to_csv(os.path.join(result_path, f'performance_test_cluster_potent.csv'))\n",
    "parameter_df.to_csv(os.path.join(result_path, f'model_best_parameters_cluster_potent.csv'))\n",
    "predictions_test_df.to_csv(os.path.join(result_path, f'predictions_test_cluster_potent.csv'))"
   ],
   "metadata": {
    "collapsed": false,
    "pycharm": {
     "name": "#%%\n",
     "is_executing": true
    }
   }
  }
 ],
 "metadata": {
  "kernelspec": {
   "display_name": "Python 3 (ipykernel)",
   "language": "python",
   "name": "python3"
  },
  "language_info": {
   "codemirror_mode": {
    "name": "ipython",
    "version": 3
   },
   "file_extension": ".py",
   "mimetype": "text/x-python",
   "name": "python",
   "nbconvert_exporter": "python",
   "pygments_lexer": "ipython3",
   "version": "3.8.8"
  }
 },
 "nbformat": 4,
 "nbformat_minor": 4
}