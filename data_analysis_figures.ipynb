{
 "cells": [
  {
   "cell_type": "code",
   "execution_count": 15,
   "metadata": {
    "collapsed": true,
    "pycharm": {
     "name": "#%%\n"
    }
   },
   "outputs": [
    {
     "name": "stdout",
     "output_type": "stream",
     "text": [
      "The autoreload extension is already loaded. To reload it, use:\n",
      "  %reload_ext autoreload\n"
     ]
    }
   ],
   "source": [
    "#Utils\n",
    "import os\n",
    "import pandas as pd\n",
    "import numpy as np\n",
    "from scipy.stats import wilcoxon\n",
    "from itertools import combinations\n",
    "#Plotting\n",
    "from matplotlib import pyplot as plt\n",
    "import seaborn as sns\n",
    "import matplotlib\n",
    "%load_ext autoreload\n",
    "%autoreload 2"
   ]
  },
  {
   "cell_type": "markdown",
   "source": [
    "# Load data"
   ],
   "metadata": {
    "collapsed": false,
    "pycharm": {
     "name": "#%% md\n"
    }
   }
  },
  {
   "cell_type": "code",
   "execution_count": null,
   "outputs": [],
   "source": [
    "results_path_reg = './regression_results/regular/'\n",
    "test_performance_ml = pd.read_csv(os.path.join(results_path_reg, 'performance_test.csv'))\n",
    "test_performance_gcn = pd.read_csv(os.path.join(results_path_reg, 'performance_test_gcn.csv'))\n",
    "test_performance = pd.concat([test_performance_ml, test_performance_gcn])\n",
    "test_performance = test_performance.set_index('Target ID')\n",
    "test_performance"
   ],
   "metadata": {
    "collapsed": false,
    "pycharm": {
     "name": "#%%\n",
     "is_executing": true
    }
   }
  },
  {
   "cell_type": "markdown",
   "source": [
    "# Load y-randomization data"
   ],
   "metadata": {
    "collapsed": false,
    "pycharm": {
     "name": "#%% md\n"
    }
   }
  },
  {
   "cell_type": "code",
   "execution_count": null,
   "outputs": [],
   "source": [
    "results_path_y_rand = './regression_results/y_rand/'\n",
    "test_performance_ml_rand = pd.read_csv(os.path.join(results_path_y_rand, 'performance_test_y_rand.csv'))\n",
    "test_performance_gcn_rand = pd.read_csv(os.path.join(results_path_y_rand, 'performance_test_gcn_y_rand.csv'))\n",
    "test_performance_yrand = pd.concat([test_performance_ml_rand, test_performance_gcn_rand])\n",
    "test_performance_yrand = test_performance_yrand.set_index('Target ID')\n",
    "test_performance_yrand"
   ],
   "metadata": {
    "collapsed": false,
    "pycharm": {
     "name": "#%%\n",
     "is_executing": true
    }
   }
  },
  {
   "cell_type": "markdown",
   "source": [
    "# Load Cluster and Potent data"
   ],
   "metadata": {
    "collapsed": false,
    "pycharm": {
     "name": "#%% md\n"
    }
   }
  },
  {
   "cell_type": "code",
   "execution_count": null,
   "outputs": [],
   "source": [
    "results_path_cp = './regression_results/cluster_potent/'\n",
    "test_performance_cluster_potent = pd.read_csv(os.path.join(results_path_cp, 'performance_test_cluster_potent.csv'))\n",
    "test_performance_gcn_cluster_potent = pd.read_csv(os.path.join(results_path_cp, 'performance_test_gcn_cluster_potent.csv'))\n",
    "test_performance_cluster_potent = pd.concat([test_performance_cluster_potent, test_performance_gcn_cluster_potent ])\n",
    "test_performance_cluster_potent = test_performance_cluster_potent.set_index('Target ID')\n",
    "test_performance_cluster_potent"
   ],
   "metadata": {
    "collapsed": false,
    "pycharm": {
     "name": "#%%\n",
     "is_executing": true
    }
   }
  },
  {
   "cell_type": "markdown",
   "source": [
    "# Metrics summary"
   ],
   "metadata": {
    "collapsed": false,
    "pycharm": {
     "name": "#%% md\n"
    }
   }
  },
  {
   "cell_type": "code",
   "execution_count": null,
   "outputs": [],
   "source": [
    "performance_test_df_mean = test_performance.copy()\n",
    "\n",
    "performance_test_df_mean = performance_test_df_mean.groupby([\"Target ID\",\"Algorithm\", \"Approach\", \"Metric\"]).agg({\"Value\": [\"mean\", \"std\"],\n",
    "                                                                                          }).round(decimals=3)\n",
    "performance_test_df_mean = pd.DataFrame(performance_test_df_mean)\n",
    "display(performance_test_df_mean)"
   ],
   "metadata": {
    "collapsed": false,
    "pycharm": {
     "name": "#%%\n",
     "is_executing": true
    }
   }
  },
  {
   "cell_type": "markdown",
   "source": [
    "# Boxplot results (Complete, Random, Diverse sets)"
   ],
   "metadata": {
    "collapsed": false,
    "pycharm": {
     "name": "#%% md\n"
    }
   }
  },
  {
   "cell_type": "code",
   "execution_count": 21,
   "outputs": [],
   "source": [
    "def plot_results(df, metric, savepath=None):\n",
    "    #plot parameters\n",
    "    matplotlib.rcdefaults()\n",
    "    font = {'size': 20}\n",
    "    matplotlib.rc('font', **font)\n",
    "    plt.figure(dpi=300)\n",
    "\n",
    "    # Database\n",
    "    df = df.loc[df ['Metric'] == metric].reset_index()\n",
    "\n",
    "    ax = sns.catplot(x=\"Approach\", y=\"Value\",\n",
    "                     hue=\"Algorithm\", hue_order=['kNN', 'SVR', 'RFR', 'DNN', 'GCN', 'MR'],\n",
    "                     data=df,\n",
    "                     kind=\"box\",\n",
    "                     col='Target ID',\n",
    "                     order=['Complete set', 'Random set', 'Diverse set'],\n",
    "                     col_wrap=2,\n",
    "                     aspect=1.5,\n",
    "                     palette=[\"tab:blue\", \"tab:orange\", \"tab:purple\", \"tab:green\", \"tab:red\", \"tab:gray\"],\n",
    "                     width=0.8)\n",
    "\n",
    "    ax.set_titles(\"{col_var}: {col_name}\")\n",
    "    ax.set_ylabels(f\"{metric}\", fontsize=20)\n",
    "    ax.set_xlabels(\" \")\n",
    "    ax = sns.move_legend(ax, \"lower center\", bbox_to_anchor=(.485, 0.05), ncol=6, title=None, frameon=False)\n",
    "    plt.subplots_adjust(bottom=0.1)\n",
    "    if savepath:\n",
    "        plt.savefig(savepath + f'all_classes_{metric}.png', dpi=300)"
   ],
   "metadata": {
    "collapsed": false,
    "pycharm": {
     "name": "#%%\n"
    }
   }
  },
  {
   "cell_type": "code",
   "execution_count": null,
   "outputs": [],
   "source": [
    "plot_results(test_performance, 'MAE', results_path_reg)\n",
    "plot_results(test_performance, 'RMSE', results_path_reg)"
   ],
   "metadata": {
    "collapsed": false,
    "pycharm": {
     "name": "#%%\n",
     "is_executing": true
    }
   }
  },
  {
   "cell_type": "markdown",
   "source": [
    "# Boxplot results (Complete, Random, Diverse sets) - Y_randomization"
   ],
   "metadata": {
    "collapsed": false,
    "pycharm": {
     "name": "#%% md\n"
    }
   }
  },
  {
   "cell_type": "code",
   "execution_count": 23,
   "outputs": [],
   "source": [
    "def plot_results_y_rand(df, metric, savepath=None):\n",
    "    #plot parameters\n",
    "    matplotlib.rcdefaults()\n",
    "    font = {'size': 20}\n",
    "    matplotlib.rc('font', **font)\n",
    "    plt.figure(dpi=300)\n",
    "\n",
    "    #Define database\n",
    "    df = df.loc[df['Metric'] == metric].reset_index()\n",
    "\n",
    "    ax = sns.catplot(x=\"Approach\", y=\"Value\",\n",
    "                     hue=\"Algorithm\", hue_order=['kNN', 'SVR', 'MR'],\n",
    "                     data=df,\n",
    "                     kind=\"box\",\n",
    "                     col='Target ID',\n",
    "                     order=['Complete set', 'Random set', 'Diverse set'],\n",
    "                     col_wrap=2,\n",
    "                     aspect=2,\n",
    "                     palette=[\"tab:blue\", \"tab:orange\", \"tab:gray\"],\n",
    "                     width=0.8)\n",
    "\n",
    "    ax.set_titles(\"{col_var}: {col_name}\")\n",
    "    ax.set_ylabels(f\"{metric}\", fontsize=20)\n",
    "    ax.set_xlabels(\" \")\n",
    "\n",
    "    ax = sns.move_legend(ax, \"lower center\", bbox_to_anchor=(.485, 0.05), ncol=5, title=None, frameon=False)\n",
    "    plt.subplots_adjust(bottom=0.1)\n",
    "    if savepath:\n",
    "        plt.savefig(savepath + f'y_rand_{metric}.png', dpi=300)"
   ],
   "metadata": {
    "collapsed": false,
    "pycharm": {
     "name": "#%%\n"
    }
   }
  },
  {
   "cell_type": "code",
   "execution_count": null,
   "outputs": [],
   "source": [
    "plot_results_y_rand(test_performance_yrand, 'MAE', results_path_y_rand)\n",
    "plot_results_y_rand(test_performance_yrand, 'RMSE', results_path_y_rand)"
   ],
   "metadata": {
    "collapsed": false,
    "pycharm": {
     "name": "#%%\n",
     "is_executing": true
    }
   }
  },
  {
   "cell_type": "markdown",
   "source": [
    "# Barplot results (Cluster, Potent sets)"
   ],
   "metadata": {
    "collapsed": false,
    "pycharm": {
     "name": "#%% md\n"
    }
   }
  },
  {
   "cell_type": "code",
   "execution_count": 25,
   "outputs": [],
   "source": [
    "def plot_results_cluster_potent(df, set, metric, savepath=None):\n",
    "    #plot parameters\n",
    "    matplotlib.rcdefaults()\n",
    "    font = {'size': 20}\n",
    "    matplotlib.rc('font', **font)\n",
    "    plt.figure(dpi=300)\n",
    "\n",
    "    # Database\n",
    "    df = df.loc[df ['Metric'] == metric].reset_index()\n",
    "\n",
    "    ax = sns.catplot(x=\"Approach\", y=\"Value\",\n",
    "                     hue=\"Algorithm\", hue_order=['kNN', 'SVR', 'RFR', 'DNN', 'GCN', 'MR'],\n",
    "                     data=df,\n",
    "                     kind=\"bar\",\n",
    "                     col='Target ID',\n",
    "                     order=[f'{set} set',],\n",
    "                     col_wrap=2,\n",
    "                     aspect=1.5,\n",
    "                     palette=[\"tab:blue\", \"tab:orange\", \"tab:purple\", \"tab:green\", \"tab:red\", \"tab:gray\"],\n",
    "                    )\n",
    "\n",
    "    ax.set_titles(\"{col_var}: {col_name}\")\n",
    "    ax.set_ylabels(f\"{metric}\", fontsize=20)\n",
    "    ax.set_xlabels(\" \")\n",
    "    ax = sns.move_legend(ax, \"lower center\", bbox_to_anchor=(.485, 0.05), ncol=6, title=None, frameon=False)\n",
    "    plt.subplots_adjust(bottom=0.1)\n",
    "\n",
    "    if savepath:\n",
    "        plt.savefig(savepath + f'all_classes_{metric}_{set}.png', dpi=300)"
   ],
   "metadata": {
    "collapsed": false,
    "pycharm": {
     "name": "#%%\n"
    }
   }
  },
  {
   "cell_type": "code",
   "execution_count": null,
   "outputs": [],
   "source": [
    "plot_results_cluster_potent(test_performance_cluster_potent, 'Cluster', 'MAE', results_path_cp)\n",
    "plot_results_cluster_potent(test_performance_cluster_potent, 'Potent', 'MAE', results_path_cp)\n",
    "plot_results_cluster_potent(test_performance_cluster_potent, 'Cluster', 'RMSE', results_path_cp)\n",
    "plot_results_cluster_potent(test_performance_cluster_potent, 'Potent', 'RMSE', results_path_cp)"
   ],
   "metadata": {
    "collapsed": false,
    "pycharm": {
     "name": "#%%\n",
     "is_executing": true
    }
   }
  }
 ],
 "metadata": {
  "kernelspec": {
   "display_name": "Python 3",
   "language": "python",
   "name": "python3"
  },
  "language_info": {
   "codemirror_mode": {
    "name": "ipython",
    "version": 2
   },
   "file_extension": ".py",
   "mimetype": "text/x-python",
   "name": "python",
   "nbconvert_exporter": "python",
   "pygments_lexer": "ipython2",
   "version": "2.7.6"
  }
 },
 "nbformat": 4,
 "nbformat_minor": 0
}