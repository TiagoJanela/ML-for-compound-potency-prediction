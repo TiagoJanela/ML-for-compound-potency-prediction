{
 "cells": [
  {
   "cell_type": "code",
   "execution_count": 1,
   "metadata": {
    "collapsed": true,
    "pycharm": {
     "name": "#%%\n"
    }
   },
   "outputs": [],
   "source": [
    "#Utils\n",
    "import os\n",
    "import pandas as pd\n",
    "import numpy as np\n",
    "from scipy.stats import wilcoxon\n",
    "from itertools import combinations\n",
    "#Plotting\n",
    "from matplotlib import pyplot as plt\n",
    "import seaborn as sns\n",
    "import matplotlib\n",
    "%load_ext autoreload\n",
    "%autoreload 2"
   ]
  },
  {
   "cell_type": "markdown",
   "source": [
    "# Load data"
   ],
   "metadata": {
    "collapsed": false,
    "pycharm": {
     "name": "#%% md\n"
    }
   }
  },
  {
   "cell_type": "code",
   "execution_count": null,
   "outputs": [],
   "source": [
    "results_path = './regression_results/'\n",
    "test_performance_ml = pd.read_csv(os.path.join(results_path, 'performance_test.csv'))\n",
    "test_performance_gcn = pd.read_csv(os.path.join(results_path, 'performance_test_gcn.csv'))\n",
    "test_performance = pd.concat([test_performance_ml, test_performance_gcn])\n",
    "test_performance = test_performance.set_index('Target ID')\n",
    "test_performance"
   ],
   "metadata": {
    "collapsed": false,
    "pycharm": {
     "name": "#%%\n",
     "is_executing": true
    }
   }
  },
  {
   "cell_type": "markdown",
   "source": [
    "# Load y-randomization data"
   ],
   "metadata": {
    "collapsed": false,
    "pycharm": {
     "name": "#%% md\n"
    }
   }
  },
  {
   "cell_type": "code",
   "execution_count": null,
   "outputs": [],
   "source": [
    "results_path = './regression_results/'\n",
    "test_performance_ml_rand = pd.read_csv(os.path.join(results_path, 'performance_test_y_rand.csv'))\n",
    "test_performance_gcn_rand = pd.read_csv(os.path.join(results_path, 'performance_test_gcn_y_rand.csv'))\n",
    "test_performance_yrand = pd.concat([test_performance_ml_rand, test_performance_gcn_rand])\n",
    "test_performance_yrand = test_performance_yrand.set_index('Target ID')\n",
    "test_performance_yrand"
   ],
   "metadata": {
    "collapsed": false,
    "pycharm": {
     "name": "#%%\n",
     "is_executing": true
    }
   }
  },
  {
   "cell_type": "markdown",
   "source": [
    "# Load Cluster and Potent data"
   ],
   "metadata": {
    "collapsed": false,
    "pycharm": {
     "name": "#%% md\n"
    }
   }
  },
  {
   "cell_type": "code",
   "execution_count": null,
   "outputs": [],
   "source": [
    "test_performance_cluster_potent = pd.read_csv(os.path.join(results_path, 'performance_test_cluster_potent.csv'))\n",
    "test_performance_gcn_cluster_potent = pd.read_csv(os.path.join(results_path, 'performance_test_gcn_cluster_potent.csv'))\n",
    "test_performance_cluster_potent = pd.concat([test_performance_cluster_potent, test_performance_gcn_cluster_potent ])\n",
    "test_performance_cluster_potent = test_performance_cluster_potent.set_index('Target ID')\n",
    "test_performance_cluster_potent"
   ],
   "metadata": {
    "collapsed": false,
    "pycharm": {
     "name": "#%%\n"
    }
   }
  },
  {
   "cell_type": "markdown",
   "source": [
    "# Metrics summary"
   ],
   "metadata": {
    "collapsed": false,
    "pycharm": {
     "name": "#%% md\n"
    }
   }
  },
  {
   "cell_type": "code",
   "execution_count": null,
   "outputs": [],
   "source": [
    "performance_test_df_mean = test_performance.copy()\n",
    "\n",
    "performance_test_df_mean = performance_test_df_mean.groupby([\"Target ID\",\"Algorithm\", \"Approach\", \"Metric\"]).agg({\"Value\": [\"mean\", \"std\"],\n",
    "                                                                                          }).round(decimals=3)\n",
    "performance_test_df_mean = pd.DataFrame(performance_test_df_mean)\n",
    "display(performance_test_df_mean)"
   ],
   "metadata": {
    "collapsed": false,
    "pycharm": {
     "name": "#%%\n",
     "is_executing": true
    }
   }
  },
  {
   "cell_type": "markdown",
   "source": [
    "# Plot results (Complete, Random, Diverse sets)"
   ],
   "metadata": {
    "collapsed": false,
    "pycharm": {
     "name": "#%% md\n"
    }
   }
  },
  {
   "cell_type": "code",
   "execution_count": 10,
   "outputs": [],
   "source": [
    "def plot_results(df, metric, savepath=None):\n",
    "    #plot parameters\n",
    "    matplotlib.rcdefaults()\n",
    "    font = {'size': 20}\n",
    "    matplotlib.rc('font', **font)\n",
    "    plt.figure(dpi=300)\n",
    "\n",
    "    # Database\n",
    "    df = df.loc[df ['Metric'] == metric].reset_index()\n",
    "\n",
    "    ax = sns.catplot(x=\"Approach\", y=\"Value\",\n",
    "                     hue=\"Algorithm\", hue_order=['kNN', 'SVR', 'RFR', 'DNN', 'GCN', 'MR'],\n",
    "                     data=df,\n",
    "                     kind=\"box\",\n",
    "                     col='Target ID',\n",
    "                     order=['Complete set', 'Random set', 'Diverse set'],\n",
    "                     col_wrap=2,\n",
    "                     aspect=1.5,\n",
    "                     palette=[\"tab:blue\", \"tab:orange\", \"tab:purple\", \"tab:green\", \"tab:red\", \"tab:gray\"],\n",
    "                     width=0.8)\n",
    "\n",
    "    ax.set_titles(\"{col_var}: {col_name}\")\n",
    "    ax.set_ylabels(f\"{metric}\", fontsize=20)\n",
    "    ax.set_xlabels(\" \")\n",
    "    if metric == 'RMSE':\n",
    "    #RMSE\n",
    "        ax.set(ylim=(0.4, 1.68),  yticks=[0.4, 0.6, 0.8, 1, 1.2, 1.4, 1.6])\n",
    "    else:\n",
    "    #MAE\n",
    "        ax.set(ylim=(0.3, 1.3),  yticks=[0.4, 0.6, 0.8, 1, 1.2])\n",
    "    ax = sns.move_legend(ax, \"lower center\", bbox_to_anchor=(.485, 0.05), ncol=6, title=None, frameon=False)\n",
    "    plt.subplots_adjust(bottom=0.1)\n",
    "    if savepath:\n",
    "        plt.savefig(results_path + f'all_classes_{metric}.png', dpi=300)"
   ],
   "metadata": {
    "collapsed": false,
    "pycharm": {
     "name": "#%%\n"
    }
   }
  },
  {
   "cell_type": "markdown",
   "source": [
    "# Plot results (Complete, Random, Diverse sets)"
   ],
   "metadata": {
    "collapsed": false,
    "pycharm": {
     "name": "#%% md\n"
    }
   }
  },
  {
   "cell_type": "code",
   "execution_count": null,
   "outputs": [],
   "source": [
    "plot_results(test_performance, 'MAE', results_path)"
   ],
   "metadata": {
    "collapsed": false,
    "pycharm": {
     "name": "#%%\n",
     "is_executing": true
    }
   }
  },
  {
   "cell_type": "markdown",
   "source": [
    "# # Plot results (Complete, Random, Diverse sets) - Y_randomization"
   ],
   "metadata": {
    "collapsed": false,
    "pycharm": {
     "name": "#%% md\n"
    }
   }
  },
  {
   "cell_type": "code",
   "execution_count": 13,
   "outputs": [],
   "source": [
    "def plot_results_y_rand(df, metric, savepath=None):\n",
    "    #plot parameters\n",
    "    matplotlib.rcdefaults()\n",
    "    font = {'size': 20}\n",
    "    matplotlib.rc('font', **font)\n",
    "    plt.figure(dpi=300)\n",
    "\n",
    "    #Define database\n",
    "    df = df.loc[df['Metric'] == metric].reset_index()\n",
    "\n",
    "    ax = sns.catplot(x=\"Approach\", y=\"Value\",\n",
    "                     hue=\"Algorithm\", hue_order=['kNN', 'SVR', 'MR'],\n",
    "                     data=df,\n",
    "                     kind=\"box\",\n",
    "                     col='Target ID',\n",
    "                     order=['Complete set', 'Random set', 'Diverse set'],\n",
    "                     col_wrap=2,\n",
    "                     aspect=2,\n",
    "                     palette=[\"tab:blue\", \"tab:orange\", \"tab:gray\"],\n",
    "                     width=0.8)\n",
    "\n",
    "    ax.set_titles(\"{col_var}: {col_name}\")\n",
    "    ax.set_ylabels(f\"{metric}\", fontsize=20)\n",
    "    ax.set_xlabels(\" \")\n",
    "    if metric == 'RMSE':\n",
    "        #RMSE\n",
    "        ax.set(ylim=(0.4, 1.68), yticks=[0.4, 0.6, 0.8, 1, 1.2, 1.4, 1.6])\n",
    "        #MAE\n",
    "    else:\n",
    "        ax.set(ylim=(0.3, 1.4), yticks=[0.4, 0.6, 0.8, 1, 1.2])\n",
    "    ax = sns.move_legend(ax, \"lower center\", bbox_to_anchor=(.485, 0.05), ncol=5, title=None, frameon=False)\n",
    "    plt.subplots_adjust(bottom=0.1)\n",
    "    if savepath:\n",
    "        plt.savefig(results_path + f'y_rand_{metric}.png', dpi=300)"
   ],
   "metadata": {
    "collapsed": false,
    "pycharm": {
     "name": "#%%\n"
    }
   }
  },
  {
   "cell_type": "code",
   "execution_count": null,
   "outputs": [],
   "source": [
    "plot_results_y_rand(test_performance_yrand, 'MAE', savepath=None)"
   ],
   "metadata": {
    "collapsed": false,
    "pycharm": {
     "name": "#%%\n",
     "is_executing": true
    }
   }
  },
  {
   "cell_type": "markdown",
   "source": [
    "# Plot results (Cluster, Potent sets)"
   ],
   "metadata": {
    "collapsed": false,
    "pycharm": {
     "name": "#%% md\n"
    }
   }
  },
  {
   "cell_type": "code",
   "execution_count": null,
   "outputs": [],
   "source": [
    "def plot_results_barplot(df, set, metric, savepath=None):\n",
    "    #plot parameters\n",
    "    matplotlib.rcdefaults()\n",
    "    font = {'size': 20}\n",
    "    matplotlib.rc('font', **font)\n",
    "    plt.figure(dpi=300)\n",
    "\n",
    "    # Database\n",
    "    df = df.loc[df ['Metric'] == metric].reset_index()\n",
    "\n",
    "    ax = sns.catplot(x=\"Approach\", y=\"Value\",\n",
    "                     hue=\"Algorithm\", hue_order=['kNN', 'SVR', 'RFR', 'DNN', 'GCN', 'MR'],\n",
    "                     data=df,\n",
    "                     kind=\"bar\",\n",
    "                     col='Target ID',\n",
    "                     order=[f'{set} set',],\n",
    "                     col_wrap=2,\n",
    "                     aspect=1.5,\n",
    "                     palette=[\"tab:blue\", \"tab:orange\", \"tab:purple\", \"tab:green\", \"tab:red\", \"tab:gray\"],\n",
    "                     width=0.8)\n",
    "\n",
    "    ax.set_titles(\"{col_var}: {col_name}\")\n",
    "    ax.set_ylabels(f\"{metric}\", fontsize=20)\n",
    "    ax.set_xlabels(\" \")\n",
    "    ax = sns.move_legend(ax, \"lower center\", bbox_to_anchor=(.485, 0.05), ncol=6, title=None, frameon=False)\n",
    "    plt.subplots_adjust(bottom=0.1)\n",
    "\n",
    "    if savepath:\n",
    "        plt.savefig(results_path + f'all_classes_{metric}_{set}.png', dpi=300)"
   ],
   "metadata": {
    "collapsed": false,
    "pycharm": {
     "name": "#%%\n"
    }
   }
  },
  {
   "cell_type": "code",
   "execution_count": null,
   "outputs": [],
   "source": [
    "plot_results_barplot(test_performance_cluster_potent, 'Cluster', 'MAE')"
   ],
   "metadata": {
    "collapsed": false,
    "pycharm": {
     "name": "#%%\n"
    }
   }
  },
  {
   "cell_type": "markdown",
   "source": [
    "# Statistical Analysis (Wilcoxon test)"
   ],
   "metadata": {
    "collapsed": false,
    "pycharm": {
     "name": "#%% md\n"
    }
   }
  },
  {
   "cell_type": "code",
   "execution_count": null,
   "outputs": [],
   "source": [
    "test_stats = test_performance.copy().reset_index(inplace=True)\n",
    "test_stats"
   ],
   "metadata": {
    "collapsed": false,
    "pycharm": {
     "name": "#%%\n"
    }
   }
  },
  {
   "cell_type": "code",
   "execution_count": null,
   "outputs": [],
   "source": [
    "metric = 'MAE'\n",
    "mut_result = []\n",
    "for app in test_stats.Approach.unique()[:]:\n",
    "    for target in test_stats['Target ID'].unique()[:]:\n",
    "        df = test_stats.loc[test_stats['Target ID'] == target]\n",
    "        for alg in combinations(['kNN', 'SVR', 'RFR', 'DNN', 'GCN', 'MR'], 2):\n",
    "            print(app, target, alg)\n",
    "\n",
    "            alg1 = df.query(f'Algorithm == \"{alg[0]}\" & Approach == \"{app}\" & Metric == \"{metric}\"')['Value']\n",
    "            alg2 = df.query(f'Algorithm == \"{alg[1]}\" & Approach == \"{app}\" & Metric == \"{metric}\"')['Value']\n",
    "\n",
    "            df_1 = pd.DataFrame(list(zip(alg1, alg2)), columns=[f'{alg[0]} {target} {app}', f'{alg[1]} {target} {app}'])\n",
    "\n",
    "            stats, p_value = wilcoxon(list(alg1),list(alg2))\n",
    "\n",
    "            mut_result_dict = {\"Approach\": app,\n",
    "                               \"Algorithm_1\": f'{alg[0]}',\n",
    "                               \"Algorithm_2\": f'{alg[1]}',\n",
    "                               \"Target\": target,\n",
    "                               \"p_value\":round(p_value, 3)}\n",
    "            mut_result.append(mut_result_dict)\n",
    "mut_result = pd.DataFrame(mut_result)\n",
    "display(mut_result)\n",
    "mut_result.to_csv(results_path +'stat_test_p_values.csv')"
   ],
   "metadata": {
    "collapsed": false,
    "pycharm": {
     "name": "#%%\n"
    }
   }
  }
 ],
 "metadata": {
  "kernelspec": {
   "display_name": "Python 3",
   "language": "python",
   "name": "python3"
  },
  "language_info": {
   "codemirror_mode": {
    "name": "ipython",
    "version": 2
   },
   "file_extension": ".py",
   "mimetype": "text/x-python",
   "name": "python",
   "nbconvert_exporter": "python",
   "pygments_lexer": "ipython2",
   "version": "2.7.6"
  }
 },
 "nbformat": 4,
 "nbformat_minor": 0
}